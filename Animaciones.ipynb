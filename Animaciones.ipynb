{
 "cells": [
  {
   "cell_type": "markdown",
   "metadata": {},
   "source": [
    "# Animaciones IxD\n",
    "La práctica de diseñar productos digitales interactivos\n",
    "\n",
    "Ventajas:\n",
    "* Enseña cómo será el producto final cuando el usuario interactue con él\n",
    "* Mejora la forma de presentar nueestro trabajo\n",
    "* Comunicar corretamente las animaciones y las transiciones\n",
    "## Teoría\n",
    "### Disparador\n",
    "Evento que inicia la animación, suele ser una acción del usuario\n",
    "### Animaciones\n",
    "* Naturales, rapidas\n",
    "* Sutiles, movimientos sutiles\n",
    "* No intrusivas, con un prósito\n",
    "### Duración\n",
    "Suficientemente lenta para que el usuario la note<br>\n",
    "Lo suficientemente rápida para no provocar esperas<br>\n",
    "Las animaciones muy rápidas no son percividas por el usuario<br>\n",
    "Animaciones muy lentas aburren al<br>\n",
    "**Duración óptima 200-500 ms**<br><br>\n",
    "<img src=\"https://github.com/GersonVis/NotesUXUI/blob/main/imagenes/tiempos%20animacion.PNG?raw=true\" width=\"500px\">\n",
    "<br>\n",
    "\n",
    "* Duración depende del dispositivo\n",
    "* 200 - 300 ms en dispositivos móviles\n",
    "* 400 ms en tabletas\n",
    "* En sitios web, la animación debe ser más rápida, entre 150-200ms\n",
    "* El tamaño influye en la duración<br>\n",
    "<img src=\"https://github.com/GersonVis/NotesUXUI/blob/main/imagenes/duracion_size.PNG?raw=true\" width=\"500px\" style=\"padding-top: 30px\">\n",
    "\n",
    "* Depende del propósito<p style=\"padding-left: 20px\">Puede ser más larga si se quiere<p style=\"padding-left: 30px\"> Atraer la atención del usuario:<br>Contar una historia</p> </p>\n",
    "* Animaciones simples\n",
    "* Aplicar efecto easing, los objetos no se mueven de forma lineal, desaceleran cuando van a pararse\n",
    "* Debe tener un próposito\n",
    "<p style=\"padding-left: 60px\"><b>Proporcionar feedback:</b> debemos mantener nuestra animación simple<br><b>Fomentar el descubrimiento:</b> cuando llama la atención del usuario cuando de otra forma habría pasado desapercibido<br><b>Realizar transiciones:</b> por ejemplo cuando hacemos una animación de deslice estamos diciendo le al usuario que estamos en la misma página<br><b>informar que se ha añadido un nuevo elemento a la lista: </b>Si empujamos los elementos suavemente hacia abajo el usuario se dará cuenta que hemos agregado un nuevo elemento a la lista<br><b>Enseñar formas alternativas de navegar<br><b>Dirección de la animación</b></b> Cosas a la izquierda animación entra por la izquierda y viceversa<br><img src=\"https://github.com/GersonVis/NotesUXUI/blob/main/imagenes/animacion_direccion.PNG?raw=true\" width=\"500px\" style=\"padding-top: 30px\"><img src=\"https://github.com/GersonVis/NotesUXUI/blob/main/imagenes/animacion_direccion2.PNG?raw=true\" width=\"500px\" style=\"padding-top: 30px\"></b><br><br><b>Cuando una animación se habré con cierta transición se debe cerrar con la misma animación a la inversa</b></p>\n",
    "* "
   ]
  },
  {
   "cell_type": "code",
   "execution_count": null,
   "metadata": {},
   "outputs": [],
   "source": []
  }
 ],
 "metadata": {
  "kernelspec": {
   "display_name": "Python 3.7.5 64-bit",
   "language": "python",
   "name": "python3"
  },
  "language_info": {
   "codemirror_mode": {
    "name": "ipython",
    "version": 3
   },
   "file_extension": ".py",
   "mimetype": "text/x-python",
   "name": "python",
   "nbconvert_exporter": "python",
   "pygments_lexer": "ipython3",
   "version": "3.7.5"
  },
  "orig_nbformat": 4,
  "vscode": {
   "interpreter": {
    "hash": "e310ee305116be7a1f6c3fc36efd30b44e9b58a3d111aad7f613c214e7b9dffb"
   }
  }
 },
 "nbformat": 4,
 "nbformat_minor": 2
}
