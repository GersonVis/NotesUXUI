{
 "cells": [
  {
   "cell_type": "markdown",
   "metadata": {},
   "source": [
    "# Problemas recurrentes\n",
    "* Remordimiento de comprador: Cuando el usuario tiene muchas opciones de las cuales elegir y se siente culpable de su elección\n",
    "* Parálisis por análisis: cuando el usuario debe analizar muchas opciones provocando que no pueda elegir"
   ]
  },
  {
   "cell_type": "markdown",
   "metadata": {},
   "source": [
    "## Consejos\n",
    "* Reducir el número de opciones\n",
    "* Agrandar las opciones recomendadas\n",
    "* Incluir tablas que permita comparar productos"
   ]
  },
  {
   "cell_type": "markdown",
   "metadata": {},
   "source": [
    "## Notas"
   ]
  },
  {
   "cell_type": "markdown",
   "metadata": {},
   "source": [
    "Cuando los wireframes están desarrollados en alta fidelidad le quedá muy poco por hacer desarrollador de interfaz, como elegir la fuente y aplicar los colores, los wireframes ya debeén ser diseñados por un diseñador de interfaz, la fidelidad debe quedarse en un nivel medio\n",
    "<br>\n",
    "<br>\n",
    "El usuario solo tarda 90 segundos en emitir un juicio subconciente de nuestro producto y eentre el 62% a 90% se basa en el color"
   ]
  },
  {
   "cell_type": "markdown",
   "metadata": {},
   "source": [
    "## Diseño UI\n",
    "Punto de acceso para interactuar con el producco"
   ]
  },
  {
   "cell_type": "markdown",
   "metadata": {},
   "source": []
  }
 ],
 "metadata": {
  "kernelspec": {
   "display_name": "Python 3.7.5 64-bit",
   "language": "python",
   "name": "python3"
  },
  "language_info": {
   "name": "python",
   "version": "3.7.5"
  },
  "orig_nbformat": 4,
  "vscode": {
   "interpreter": {
    "hash": "e310ee305116be7a1f6c3fc36efd30b44e9b58a3d111aad7f613c214e7b9dffb"
   }
  }
 },
 "nbformat": 4,
 "nbformat_minor": 2
}
