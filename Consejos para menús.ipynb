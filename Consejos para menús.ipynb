{
 "cells": [
  {
   "cell_type": "markdown",
   "metadata": {},
   "source": [
    "# Consejos para menús\n",
    "* En las apps es mejor utilizar un navbar que un menú de hamburguesa\n",
    "* Lo ideal son 4 opciones en el navbar\n",
    "* Los botones deben tener un tamaño de 48x48 píxeles para evitar que se cometan errores al pulsar\n",
    "* Se debe ocultar las opciones que no se utilizan moviéndolas a otra parte o en el footer\n",
    "* Se debe crear un menú donde vengan nuestros principales servicios de esa manera el usuario ya tendrá una idea de lo que se trata nuestra página\n",
    "* Se debe agregar un botón de otro color con nuestro servicio principal\n",
    "* Los menús deben ser menores a 3 palabras\n",
    "* No solo utilizar los colores para describir selecciones sino también el cambio de los iconos, esto por si los usuarios sufren de daltonismo 1 de cada 12 hombres sufre daltonismo\n",
    "* Revisar los estándares externos para los menús\n",
    "* Siempre mantener los estándares internos de las cosas"
   ]
  },
  {
   "cell_type": "markdown",
   "metadata": {},
   "source": [
    "## Menús disposición\n",
    "* Son más cómodos los menús horizontales, pero quitan espacio\n",
    "* Los menús verticales no quitan tanto espacio, pero limitan las opciones que podemos ver\n",
    "* La mejor combinación de menús es primera vertical y después horizontales"
   ]
  },
  {
   "cell_type": "markdown",
   "metadata": {},
   "source": []
  }
 ],
 "metadata": {
  "language_info": {
   "name": "python"
  },
  "orig_nbformat": 4
 },
 "nbformat": 4,
 "nbformat_minor": 2
}
