{
 "cells": [
  {
   "cell_type": "markdown",
   "metadata": {},
   "source": [
    "### Consejos para textos\n",
    "* Mínimo de tamaño 12pt\n",
    "* Debe utilizarse lenguaje entendible, que no sea técnico\n",
    "* Los botones deben tener como máximo dos palabras\n",
    "* Debe hablarse al usuario como si fuera un diálogo, por ejemplo: \"Tienes un math\", \"Estás buscando algo?\"\n",
    "\"Estas de acuerdo en la siguiente acción?\"\n",
    "* Al informar de errores se debe ser específico en lo que provoca el error, por ejemplo:\n",
    "al hacer login: \"Error no se pudo hacer login\" esto está mal, al contrario se debe informar por qué no se puede hacer lo que se requiere \"Error as introducido un nombre de usuario incorrecto\" o \"No se han encontrado resultados de la búsqueda\""
   ]
  },
  {
   "cell_type": "markdown",
   "metadata": {},
   "source": []
  }
 ],
 "metadata": {
  "language_info": {
   "name": "python"
  },
  "orig_nbformat": 4
 },
 "nbformat": 4,
 "nbformat_minor": 2
}
