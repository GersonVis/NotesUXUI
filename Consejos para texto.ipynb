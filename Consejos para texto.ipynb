{
 "cells": [
  {
   "cell_type": "markdown",
   "metadata": {},
   "source": [
    "### Consejos para textos\n",
    "* Mínimo de tamaño 12pt\n",
    "* Debe utilizarse lenguaje entendible, que no sea técnico\n",
    "* Los botones deben tener como máximo dos palabras\n",
    "* Debe hablarse al usuario como si fuera un diálogo, por ejemplo: \"Tienes un math\", \"Estás buscando algo?\"\n",
    "\"Estas de acuerdo en la siguiente acción?\"\n",
    "* Al informar de errores se debe ser específico en lo que provoca el error, por ejemplo:\n",
    "al hacer login: \"Error no se pudo hacer login\" esto está mal, al contrario se debe informar por qué no se puede hacer lo que se requiere \"Error as introducido un nombre de usuario incorrecto\" o \"No se han encontrado resultados de la búsqueda\""
   ]
  },
  {
   "cell_type": "markdown",
   "metadata": {},
   "source": []
  }
 ],
 "metadata": {
  "kernelspec": {
   "display_name": "Python 3.7.5 64-bit",
   "language": "python",
   "name": "python3"
  },
  "language_info": {
   "name": "python",
   "version": "3.7.5"
  },
  "orig_nbformat": 4,
  "vscode": {
   "interpreter": {
    "hash": "e310ee305116be7a1f6c3fc36efd30b44e9b58a3d111aad7f613c214e7b9dffb"
   }
  }
 },
 "nbformat": 4,
 "nbformat_minor": 2
}
