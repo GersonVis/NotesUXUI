{
 "cells": [
  {
   "cell_type": "markdown",
   "metadata": {},
   "source": [
    "## Encontrar inspiracion\n",
    "* Realizar un benchmarking buscando otros diseños para poder basarnos recordando que no debemos copiar los diseños pero tampoco alejarnos demasiado de como se deben realizar las interfaces que están dirigidas hacia nuestro propio fin de la interfaz\n",
    "* Comparar soluciones de diseño\n"
   ]
  },
  {
   "cell_type": "markdown",
   "metadata": {},
   "source": [
    "## Páginas recomendadas\n",
    "* <a href=\"https://collectui.com/\">Collectiu</a>\n",
    "* <a href=\"https://mobbin.com/browse/ios/apps\">Mobbin</a>"
   ]
  },
  {
   "cell_type": "markdown",
   "metadata": {},
   "source": [
    "## Moodboard\n",
    "Tablero digital donde recogemos todas las referencias visuales\n",
    "* guía visual para compartir nuestras ideas \n",
    "* alinearnos sobre la dirección gráfica"
   ]
  },
  {
   "cell_type": "markdown",
   "metadata": {},
   "source": [
    "## Estilo visual\n",
    "Inspirarse en el trabajo de otros para reinterprestarlo y adaptarlo\n",
    "* Mezcla de estilos\n",
    "* Copiar diseños para aprender a hacer las cosas\n",
    "* Cuando replicamos aprendemos a hacer las cosas, solo al principio"
   ]
  },
  {
   "cell_type": "markdown",
   "metadata": {},
   "source": [
    "## Juntar conceptos desconectados\n",
    "Buscar elementos sueltos que pertenezcan a distintos diseños\n",
    "<br>Sitios que no pertenezcan al mismo campo que nuestro producto"
   ]
  }
 ],
 "metadata": {
  "language_info": {
   "name": "python"
  },
  "orig_nbformat": 4
 },
 "nbformat": 4,
 "nbformat_minor": 2
}
