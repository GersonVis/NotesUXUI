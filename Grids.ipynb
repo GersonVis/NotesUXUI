{
 "cells": [
  {
   "cell_type": "markdown",
   "metadata": {},
   "source": [
    "# Grids\n",
    "Organizar el contenido\n",
    "* Crear a partir de una unidad de 8px, las pantallas pueden ser divididas por 8\n",
    "* Mantener la coherencia\n",
    "* No romper el grid si eres novato\n",
    "* Grid a 12 columnas<br>\n",
    "<img style=\"padding-left: 30px; padding-top: 30px\" src=\"https://github.com/GersonVis/NotesUXUI/blob/main/imagenes/grid.PNG?raw=true\" title=\"ejemplo hero\" width=\"500px\"/>\n",
    "\n",
    "* puntos de corte, 0-575px móvil, 577-768px tablet vertical, 769-992px tablet horizontal<br>\n",
    "<img style=\"padding-left: 30px; padding-top: 30px\" src=\"https://github.com/GersonVis/NotesUXUI/blob/main/imagenes/cortes.PNG?raw=true\" title=\"puntos de corte\" width=\"500px\"/>\n",
    "\n",
    "* Máximo 4 a 5 puntos de corte\n",
    "* Ancho máximo por cada punto de corte, y reacomordar al hacer el corte reduciendo los lados\n",
    "* Los textos deben ser de 45 y 75 px, rellenando el resto con otros elementos\n",
    "* Safe area, areá disponible para el diseño"
   ]
  },
  {
   "cell_type": "markdown",
   "metadata": {},
   "source": []
  }
 ],
 "metadata": {
  "kernelspec": {
   "display_name": "Python 3.7.5 64-bit",
   "language": "python",
   "name": "python3"
  },
  "language_info": {
   "name": "python",
   "version": "3.7.5"
  },
  "orig_nbformat": 4,
  "vscode": {
   "interpreter": {
    "hash": "e310ee305116be7a1f6c3fc36efd30b44e9b58a3d111aad7f613c214e7b9dffb"
   }
  }
 },
 "nbformat": 4,
 "nbformat_minor": 2
}
