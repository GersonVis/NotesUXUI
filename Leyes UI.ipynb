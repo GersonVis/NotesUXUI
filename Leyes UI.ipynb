{
 "cells": [
  {
   "cell_type": "markdown",
   "metadata": {},
   "source": [
    "# Leyes Ux\n",
    "## 1 Efecto de usabilidad estética\n",
    "Un efecto agradable crea una respuesta positiva en el cerebro del usuaio y les lleva a creer que el producto funciona mejor, si cuidamos mucho la estética, los usuarios nos perdonarán pequeños fallos de usabilidad, testear interfaz antes de tener colores para no perder errores\n",
    "## 2 Umbral de Doherty\n",
    "La productividad aumenta cuando el usuario y el sistema van a un ritmo tal que uno no debe esperar al otro, **el tiempo máximo de espera antes de que el usuario perciba un retraso es de 400 ms**\n",
    "\n",
    "Cuando el proceso implica un proceso de carga, debemos utilzar animaciones para que el usuario se cienta incluido visualmente, utilizar las barras de progreso, a procesos muy rápidos hacer la barra de proceso lento para engañar al usuario que se hizo algo\n",
    "## 3 Ley de Hick \n",
    "El tiempo de desición aumenta a menudo que se incrementan las opciones\n",
    "* Reducir las opciones disponibles\n",
    "* Resaltar las opciones recomendadas\n",
    "* Dividir la tarea en pasos más simples\n",
    "## 4 Ley de Tesler\n",
    "Ley de conservación de la complejidad, para cada sistema existe un nivel de complejidad que no se puede reducir, esa complejidad debe ser asumida por el sistema o por el usuario\n",
    "* Intentar que sea el sistema el que asuma la complejidad\n",
    "## 5 Ley de Prägnanz\n",
    "Las personas interpretán imágenes ambiguas o complejas como la forma más simple posible\n",
    "* Utilizar imagenes e iconos lo más simple posibles por que es lo que mejor recuerdan las personas\n",
    "## 6 Efecto de posición seríal\n",
    "Los usuarios tienen a recordar mejor el primer y el ultimo elemento de una serie\n",
    "* Colocar las secciones más importantes en los extremos\n",
    "## 7 Ley de Fitts\n",
    "La velocidad para llegar a un objeto es proporcional a la distancia a la que se encuentra el objeto y a su tamaño \n",
    "* Cuando más pequeño el objeto más díficil interactuar con el\n",
    "* Elementos los suficientemente grandes\n",
    "* Espacio entre los objetos\n",
    "## 8 Ley de Parkinson\n",
    "Cuanto más tiempo tenemos para realizar una acción más tardará el usuario en realizarla\n",
    "* Establecer periodos de tiempo cortos\n",
    "## 9 Ley efecto VonRestorff\n",
    "Efecto de aislamiento, cuando hay varios objetos similares presentes es más probable que se recuerde el que difiere del resto\n",
    "* Las acciones clave deben ser visualmente distintas, hacerlo con moderación para evitar que haya demasiados elementos destacables\n",
    "## 9 Efecto Zeigarnik\n",
    "Las personas recuerdan mejor las tareas incompletas o interrumpidas que las terminadas\n",
    "* Presentar una barra de progreso incrementa que las personas terminen el proceso\n",
    "## 10 Ley de Miller\n",
    "La persona promedio solo puede mantener 7 u 8 en su memoría de trabajo\n",
    "* Limitar las opciones en un menú \n",
    "* Ayudar a los usuarios a memorizar la información de una manerá más fácil\n",
    "## 12 ley de Jakob\n",
    "Nuestro producto debe funcionar como los otros productos que ya conocen \n",
    "* Aprovechar los patrones con que el usuario ya se siente familiarizado\n",
    "## 13 Regla del Peak-end\n",
    "Las personas juzgan una experiencia basandose en como se sintieron en su momento culminante y al final\n",
    "## 14 Principio de Pareto\n",
    "el 80% de los problemas vienen del 20% de las causas, consentrarnos en resolver las causas"
   ]
  },
  {
   "cell_type": "markdown",
   "metadata": {},
   "source": []
  }
 ],
 "metadata": {
  "language_info": {
   "name": "python"
  },
  "orig_nbformat": 4
 },
 "nbformat": 4,
 "nbformat_minor": 2
}
