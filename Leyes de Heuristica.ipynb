{
 "cells": [
  {
   "cell_type": "markdown",
   "metadata": {},
   "source": [
    "# Leyes de heurística\n",
    "## 1 Visibilidad del estado del sistema\n",
    "Siempre el sistema debe mantener a los usuarios informados de lo que esta sucediendo, mediante una retroalimentación en un periodo de tiempo razonable\n",
    "* Debemos comunicar al usuario mediante una respuesta lo más rapido posible, o inmediata\n",
    "* Se debe enseñar al usuario solo informmación relevente\n",
    "* No realizar acciones importantes sin primero informarle al usuario\n",
    "## 2 Coincidencia entre sistema y mundo real\n",
    "Los sistemas deben hablar el mismo idioma que los usuarios, utilizando frases y palabras familiares\n",
    "* Debe tener un mapeo natural\n",
    "* Compatibilidad estimulo respuesta\n",
    "\n",
    "<img src=\"\" style=\"padding-top: 30px; padding-left: 40px\">"
   ]
  }
 ],
 "metadata": {
  "language_info": {
   "name": "python"
  },
  "orig_nbformat": 4
 },
 "nbformat": 4,
 "nbformat_minor": 2
}
