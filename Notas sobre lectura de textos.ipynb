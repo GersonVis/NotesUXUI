{
 "cells": [
  {
   "cell_type": "markdown",
   "metadata": {},
   "source": [
    "# Notas\n",
    "**Entré menos texto más leen las personas**\n",
    "\n",
    "## Léctura:\n",
    "* Las personas solo leén el 20% de textos\n",
    "* Si son menos de 111 palabras las personas leén el 50%\n",
    "\n",
    "## Formas de léctura:\n",
    "### En forma de Z\n",
    "* tiene 4 puntos importantes\n",
    "* Debe utilizarce en pagínas con poco texto o minimalistas\n",
    "\n",
    "<img src=\"https://cdn-images-1.medium.com/max/800/1*HfJ72TZp2mAWxF-IBjwOYA.png\" style=\"padding-left: 70px\" width=\"500px\"/>\n",
    "<br>\n",
    "<br>\n",
    "<img src=\"https://cdn-images-1.medium.com/max/800/1*gSXy2vu8lzDbUvcrEScY9g.png\" style=\"padding-left: 70px\" width=\"500px\"/>\n",
    "           \n",
    "\n",
    "            Ordenar los elementos de forma jerarquica, terminando con el objeto más importante en la útima parte de la Z\n",
    "### En forma de F\n",
    "* Cuando la información no esta bien formateada \n",
    "* Los usuarios realizaran el mínimo exfuerzo para leer la pagína\n",
    "* Cuando existe mucha información\n",
    "#### Consejos\n",
    "* Utilizar subtitulos en negritas\n",
    "* Resaltar palabras\n",
    "* Cambiar estilo de links\n",
    "* Utilizar palabras revelantes\n",
    "* Permitir al usuario encontrar información importante\n",
    "### Patrón de capas\n",
    "> La forma más efectiva de escanear las paginas \n",
    "* Titulos y subtitulos sicnificativos\n",
    "* Priorizar y ordenar los textos\n",
    "* Agrupar contenido relacionado \n",
    "* Dividir el texto en pequeñas partes \n",
    "* Destacar subtitulos, cambiando el tamaño, color o tipo de letra (no exagerar)\n",
    " "
   ]
  },
  {
   "cell_type": "markdown",
   "metadata": {},
   "source": [
    "## La economia de la atención\n",
    "* No requerir demasiada atención\n",
    "* Respetar el contexto de uso \n",
    "* En celulares es menor el tiempo dedicado a las paginas\n",
    "\n",
    "Dedicar nuestro tiempo a cosas especificas ignorando otras, el tiempo es limitado, por eso nuestro contenido debe agilizar el tiempo de las personas"
   ]
  },
  {
   "cell_type": "markdown",
   "metadata": {},
   "source": [
    "## Malas prácticas\n",
    "* Exceso de animaciones\n",
    "* Exceso de anuncios"
   ]
  }
 ],
 "metadata": {
  "language_info": {
   "name": "python"
  },
  "orig_nbformat": 4
 },
 "nbformat": 4,
 "nbformat_minor": 2
}
