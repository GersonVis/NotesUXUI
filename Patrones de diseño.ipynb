{
 "cells": [
  {
   "cell_type": "markdown",
   "metadata": {},
   "source": [
    "# Patrones de diseño"
   ]
  },
  {
   "cell_type": "markdown",
   "metadata": {},
   "source": [
    "## Tarjetas\n",
    "* Consienten mostrar en un espacio reducido muchos elementos\n",
    "* Buena usabilidad\n",
    "* Adaptables a cualquier estilo \n",
    "* Adaptables a desktop y móvil\n",
    "<br>\n",
    "<img style=\"padding-left: 30px; padding-top: 30px\" src=\"https://github.com/GersonVis/NotesUXUI/blob/main/imagenes/tipos%20de%20estado.PNG?raw=true\" width=\"500px\"/>\n",
    "\n",
    "* Mantener la jerarquía visual dentro de la tarjeta utilizando el color o el tipo de letra\n",
    "* Formas de limitar\n",
    "<p style=\"padding-left: 40px\">Utilizar linas de borde pero que no se distingan demasiado, si no, darán una sensación de desorden<br>\n",
    "Las tarjetas pueden tener un color de fondo diferente al fondo principal, el constraste debe ser mínimo<br>\n",
    "Las sombras tambien nos pueden ayudar a delimitar las tarjetas\n",
    "Agregar un borde si queda muy plana nuestra tarjeta\n",
    "<img style=\"padding-left: 30px; padding-top: 30px\" src=\"https://github.com/GersonVis/NotesUXUI/blob/main/imagenes/tipos%20de%20estado.PNG?raw=true\" title=\"tarjeta con borde\" width=\"500px\"/>\n",
    "</p>\n",
    "\n"
   ]
  },
  {
   "cell_type": "markdown",
   "metadata": {},
   "source": []
  }
 ],
 "metadata": {
  "kernelspec": {
   "display_name": "Python 3.7.5 64-bit",
   "language": "python",
   "name": "python3"
  },
  "language_info": {
   "name": "python",
   "version": "3.7.5"
  },
  "orig_nbformat": 4,
  "vscode": {
   "interpreter": {
    "hash": "e310ee305116be7a1f6c3fc36efd30b44e9b58a3d111aad7f613c214e7b9dffb"
   }
  }
 },
 "nbformat": 4,
 "nbformat_minor": 2
}
