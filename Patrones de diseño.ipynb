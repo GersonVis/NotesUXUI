{
 "cells": [
  {
   "cell_type": "markdown",
   "metadata": {},
   "source": [
    "# Patrones de diseño"
   ]
  },
  {
   "cell_type": "markdown",
   "metadata": {},
   "source": [
    "## Tarjetas\n",
    "* Consienten mostrar en un espacio reducido muchos elementos\n",
    "* Buena usabilidad\n",
    "* Adaptables a cualquier estilo \n",
    "* Adaptables a desktop y móvil\n",
    "<br>\n",
    "<img style=\"padding-left: 30px; padding-top: 30px\" src=\"https://github.com/GersonVis/NotesUXUI/blob/main/imagenes/tarjetas%20color%20de%20fondo%20distinto.PNG?raw=true\" width=\"500px\"/>\n",
    "\n",
    "* Mantener la jerarquía visual dentro de la tarjeta utilizando el color o el tipo de letra\n",
    "* Formas de limitar\n",
    "<p style=\"padding-left: 40px\">Utilizar linas de borde pero que no se distingan demasiado, si no, darán una sensación de desorden<br>\n",
    "Las tarjetas pueden tener un color de fondo diferente al fondo principal, el constraste debe ser mínimo<br>\n",
    "Las sombras tambien nos pueden ayudar a delimitar las tarjetas\n",
    "Agregar un borde si queda muy plana nuestra tarjeta\n",
    "<img style=\"padding-left: 30px; padding-top: 30px\" src=\"https://github.com/GersonVis/NotesUXUI/blob/main/imagenes/tarjeta%20con%20borde.PNG?raw=true\" title=\"tarjeta con borde\" width=\"500px\"/>\n",
    "</p>\n",
    "\n"
   ]
  },
  {
   "cell_type": "markdown",
   "metadata": {},
   "source": [
    "## Tarjetas de precio\n",
    "<img style=\"padding-left: 30px; padding-top: 30px\" src=\"https://github.com/GersonVis/NotesUXUI/blob/main/imagenes/ejemplo%20de%20tarjeta%20de%20precios.PNG?raw=true\" title=\"ejemplo de tarjeta de precios\" width=\"500px\"/>\n",
    "Características:<br>\n",
    "<p style=\"padding-left: 20px\">\n",
    "Cuando hay más opciones de compra<br>\n",
    "Facilitan la comparación y la toma de desiciones<br>\n",
    "Resaltan los beneficios\n",
    "Destacan un plan</p>\n",
    "Estrategias psicologicas:\n",
    "<p style=\"padding-left: 20px\">\n",
    "Efecto ricitos de oro\n",
    "<p style=\"padding-left: 40px\">\n",
    "Tendemos a elegir la opción intermedia<br>\n",
    "<img style=\"padding-left: 30px; padding-top: 30px\" src=\"https://github.com/GersonVis/NotesUXUI/blob/main/imagenes/opcion%20intermedia.PNG?raw=true\" title=\"opcion intermedia\" width=\"500px\"/>\n",
    "</p>\n",
    "</p>"
   ]
  },
  {
   "cell_type": "markdown",
   "metadata": {},
   "source": []
  }
 ],
 "metadata": {
  "kernelspec": {
   "display_name": "Python 3.7.5 64-bit",
   "language": "python",
   "name": "python3"
  },
  "language_info": {
   "name": "python",
   "version": "3.7.5"
  },
  "orig_nbformat": 4,
  "vscode": {
   "interpreter": {
    "hash": "e310ee305116be7a1f6c3fc36efd30b44e9b58a3d111aad7f613c214e7b9dffb"
   }
  }
 },
 "nbformat": 4,
 "nbformat_minor": 2
}
