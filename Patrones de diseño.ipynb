{
 "cells": [
  {
   "cell_type": "markdown",
   "metadata": {},
   "source": [
    "# Patrones de diseño"
   ]
  },
  {
   "cell_type": "markdown",
   "metadata": {},
   "source": [
    "## Tarjetas\n",
    "* Consienten mostrar en un espacio reducido muchos elementos\n",
    "* Buena usabilidad\n",
    "* Adaptables a cualquier estilo \n",
    "* Adaptables a desktop y móvil\n",
    "<br>\n",
    "<img style=\"padding-left: 30px; padding-top: 30px\" src=\"https://github.com/GersonVis/NotesUXUI/blob/main/imagenes/tarjetas%20color%20de%20fondo%20distinto.PNG?raw=true\" width=\"500px\"/>\n",
    "\n",
    "* Mantener la jerarquía visual dentro de la tarjeta utilizando el color o el tipo de letra\n",
    "* Formas de limitar\n",
    "<p style=\"padding-left: 40px\">Utilizar linas de borde pero que no se distingan demasiado, si no, darán una sensación de desorden<br>\n",
    "Las tarjetas pueden tener un color de fondo diferente al fondo principal, el constraste debe ser mínimo<br>\n",
    "Las sombras tambien nos pueden ayudar a delimitar las tarjetas\n",
    "Agregar un borde si queda muy plana nuestra tarjeta\n",
    "<img style=\"padding-left: 30px; padding-top: 30px\" src=\"https://github.com/GersonVis/NotesUXUI/blob/main/imagenes/tarjeta%20con%20borde.PNG?raw=true\" title=\"tarjeta con borde\" width=\"500px\"/>\n",
    "</p>\n",
    "\n"
   ]
  },
  {
   "cell_type": "markdown",
   "metadata": {},
   "source": [
    "## Tarjetas de precio\n",
    "<img style=\"padding-left: 30px; padding-top: 30px\" src=\"https://raw.githubusercontent.com/GersonVis/NotesUXUI/main/imagenes/ejemplo%20de%20tarjeta%20de%20precios.PNG\" title=\"ejemplo de tarjeta de precios\" width=\"500px\"/><br>\n",
    "Características:<br>\n",
    "<p style=\"padding-left: 20px\">\n",
    "Cuando hay más opciones de compra<br>\n",
    "Facilitan la comparación y la toma de desiciones<br>\n",
    "Resaltan los beneficios\n",
    "Destacan un plan</p>\n",
    "Estrategias psicologicas:<br>\n",
    "Si quieres vender un reloj de 2000 pon lo al lado de uno de 7000\n",
    "<p style=\"padding-left: 20px\">\n",
    "Efectos ricitos de oro\n",
    "<p style=\"padding-left: 40px\">\n",
    "Tendemos a elegir la opción intermedia<br>\n",
    "<img style=\"padding-left: 30px; padding-top: 30px\" src=\"https://github.com/GersonVis/NotesUXUI/blob/main/imagenes/opcion%20intermedia.PNG?raw=true\" title=\"opcion intermedia\" width=\"500px\"/>\n",
    "</p><br>\n",
    "<p style=\"padding-left: 40px\">Efecto ancla: confiamos en la primera información para tomar decisiones\n",
    "</p>\n",
    "<p style=\"padding-left: 40px\">principio de escaces: Asignamos un alto valor a las cosas que percibimos como menos diponibles \n",
    "<img style=\"padding-left: 30px; padding-top: 30px\" src=\"https://github.com/GersonVis/NotesUXUI/blob/main/imagenes/principio%20de%20escaces.PNG?raw=true\" title=\"principio de escaces\" width=\"500px\"/>\n",
    "</p>\n",
    "\n",
    "* Mostrar primero el precio más alto\n",
    "* Eliminar los símbolos de precios aumenta el gasto en un 12%\n",
    "* El poner los precios en .99 se percibe como el número redonde más cercano\n",
    "* El 9 es un número mágico\n",
    "* Las personas compran más si el número esta en pequeño\n",
    "* Si queremos maximar el número de ventas de nuestros productos hacer los números más grandes(hacer ver que nos va bien)\n"
   ]
  },
  {
   "cell_type": "markdown",
   "metadata": {},
   "source": [
    "## Formularios\n",
    "### Diseño y estructura\n",
    "* Eliminar todos los campos no esenciables\n",
    "* Cada campo adicional perdemos clientes potenciales\n",
    "* Dividir el formulario en dos o tres pasos\n",
    "* Agrupar los campos relacionados\n",
    "* Guardar los datos en cada paso\n",
    "* Enseñar el progreso\n",
    "* Ir guardando las opciones seleccinadas\n",
    "* Evitar preguntas condicionales\n",
    "<img style=\"padding-left: 30px; padding-top: 30px\" src=\"https://github.com/GersonVis/NotesUXUI/blob/main/imagenes/dividir%20formulario.PNG?raw=true\" title=\"opcion intermedia\" width=\"500px\"/>\n",
    "\n",
    "* Evitar dos filas de preguntas\n",
    "<img style=\"padding-left: 30px; padding-top: 30px\" src=\"https://github.com/GersonVis/NotesUXUI/blob/main/imagenes/formulario%20columnas.PNG?raw=true\" title=\"opcion intermedia\" width=\"500px\"/>\n",
    "\n",
    "* La distancia entre la etiqueta y el campo debe ser inferior a la distancia entre las preguntas\n",
    "<img style=\"padding-left: 30px; padding-top: 30px\" src=\"https://github.com/GersonVis/NotesUXUI/blob/main/imagenes/formulario%20etiquetas.PNG?raw=true\" title=\"opcion intermedia\" width=\"500px\"/>\n",
    "\n",
    "* Dar una razón a los usuarios para que realicen el formulario\n",
    "* Para menos de 6 respuestas no usar un selector si no mostrarlas todas en un solo campo\n",
    "<img style=\"padding-left: 30px; padding-top: 30px\" src=\"https://github.com/GersonVis/NotesUXUI/blob/main/imagenes/formuario%20opciones.PNG?raw=true\" title=\"opcion intermedia\" width=\"500px\"/>\n",
    "\n",
    "* Apilar las opciones verticalmente<br>\n",
    "<img style=\"padding-left: 30px; padding-top: 30px\" src=\"https://github.com/GersonVis/NotesUXUI/blob/main/imagenes/formulario%20apilar.PNG?raw=true\" title=\"opcion intermedia\" width=\"500px\"/>\n",
    "\n",
    "* Explicar por que pedimos información confidencial\n",
    "* Al pedir una dirección basarnos en la ip para recomendar el lugar\n",
    "* Pedir el codigo postal a partir de este obtener la dirección \n",
    "* No incluir placeholders obvios \n",
    "* Cuando el usuario ya sabe la respuesta utilizar un campo predictivo\n",
    "<img style=\"padding-left: 30px; padding-top: 30px\" src=\"https://github.com/GersonVis/NotesUXUI/blob/main/imagenes/formuario%20prediccion.PNG?raw=true\" title=\"opcion intermedia\" width=\"500px\"/>\n",
    "\n",
    "* No marcar los campos necesarios con asteriscos mejor marcar los opcionales\n",
    "* Incluir imagenes e iconos\n",
    "* No solo utilizar el color para comunicar errores\n",
    "* Campos intuitivos<br>\n",
    "<img style=\"padding-left: 30px; padding-top: 30px\" src=\"https://github.com/GersonVis/NotesUXUI/blob/main/imagenes/formulario%20intuitivo.PNG?raw=true\" title=\"opcion intermedia\" width=\"500px\"/>\n",
    "\n",
    "* Si nuestro formulario será utilzado en lugares con mucha luz, asegurarnos de que exista un alto contraste\n",
    "### validación de entrada y manejo de errores\n",
    "* Formatear el campo para disminuir el número de errores<br>\n",
    "<img style=\"padding-left: 30px; padding-top: 30px\" src=\"https://github.com/GersonVis/NotesUXUI/blob/main/imagenes/formuario%20formatear.PNG?raw=true\" title=\"opcion intermedia\" width=\"500px\"/>\n",
    "\n",
    "* No pedir que se confirme la contraseña\n",
    "* Enseñar los criteros de las contraseñas debajo e ir mostrando cuales criterios se han cumplidp\n",
    "* Informar de error de llenado del campo en tiempo real\n",
    "* Desactivar el botón de formulario hasta que estén completos todos los campos\n",
    "### Formularios de pagos\n",
    "El 69 de compradores online nunca completan una compra\n",
    "* Si no hay compras no incluir sellos de pago\n",
    "* Seguir orden en que aparecen los datos en la tarjeta física\n",
    "<img style=\"padding-left: 30px; padding-top: 30px\" src=\"https://github.com/GersonVis/NotesUXUI/blob/main/imagenes/formulario%20tarjeta.PNG?raw=true\" title=\"opcion intermedia\" width=\"500px\"/>\n",
    "\n",
    "* Las personas solo quieren comprar no registrarse\n",
    "* Proporcionar opciones de pago de terceros\n",
    "### Botones y llamadas a la acción\n",
    "* Deben mostrar lo que el usuario quiere realizar\n",
    "* Los botones deben hablar en primera persona, \"iniciar mi prueba gratuita\"\n",
    "<img style=\"padding-left: 30px; padding-top: 30px\" src=\"https://github.com/GersonVis/NotesUXUI/blob/main/imagenes/formulario%20mensaje.PNG?raw=true\" title=\"opcion intermedia\" width=\"500px\"/>\n",
    "\n",
    "* Botones al mismo ancho que los campos\n",
    "* Quitar los botones de eliminar o restablecer, si son necesarios, se debe crear una clara diferencia\n",
    "* Combinar las polícas del usuario en un solo botón\n",
    "* Llevar a una página que comunique al usuario lo que pasará a continuación\n",
    "* Comunicar el tiempo de espera\n"
   ]
  },
  {
   "cell_type": "markdown",
   "metadata": {},
   "source": [
    "# Búsqueda\n",
    "* Cuanto más importante es la barra de búsqueda en nuestro producto tendremos que hacer la barra de búsqueda más accesibile\n",
    "* Proporcionar opciones de filtrado y ordenamiento"
   ]
  },
  {
   "cell_type": "markdown",
   "metadata": {},
   "source": [
    "# Tablas\n",
    "Visualizar los datos de manera limpia y ordenada<br>\n",
    "Interactuar con esos datos<br>\n",
    "* Tablas simples cuando existe un alta densidad de datos\n",
    "* Resaltar información cuando el mouse se mueve sobre la tabla\n",
    "* Peso visual a los encabezados\n",
    "* No ocultar encabezados\n",
    "* Filtros de las tablas \n",
    "* Bloquear la primera columna\n",
    "* Textos alineados a la izquierda\n",
    "* Añadir barra de busqueda\n",
    "* Paginación de resultados\n",
    "* Dar opciones de expación a la derecha\n",
    "* Incluir en una unica celda el nombre y el correo electronico\n",
    "* Separación mínima de 16px<br>\n",
    "<img style=\"padding-left: 30px; padding-top: 30px\" src=\"https://github.com/GersonVis/NotesUXUI/blob/main/imagenes/formulario%20separacion.PNG?raw=true\" title=\"opcion intermedia\" width=\"500px\"/>\n",
    "\n",
    "* Permitir multiselección\n",
    "* Utilizar un toque de color para comunicar estados importantes, no abusar "
   ]
  },
  {
   "cell_type": "markdown",
   "metadata": {},
   "source": [
    "# El Hero\n",
    "Su objetivo es dar la bienvenida a nuestros usuarios<br>\n",
    "Causar una buena impresión<br>\n",
    "Comunicar nuestro producto en un primer vistazo<br>\n",
    "<img style=\"padding-left: 30px; padding-top: 30px\" src=\"https://github.com/GersonVis/NotesUXUI/blob/main/imagenes/hero.PNG?raw=true\" title=\"ejemplo hero\" width=\"500px\"/>\n",
    "* Nuestro protagonista debe ser el contenido multimedia\n",
    "* Un elemento multimedia un titulo y dos elementos que llaman a la acción\n",
    "* Carrusel para mostrar varios contenidos\n",
    "* Jugar con varios contrastes entre el fondo y los botones \n",
    "* Se puede poner en las imagenes una capa negra para que se visualice el texto\n",
    "* Imágenes optimizadas\n",
    "* Buenas imágenes\n",
    "* Imágenes que persuadan al usuario\n",
    "* Adaptar nuestro hero a las diferentes dimensiones\n"
   ]
  },
  {
   "cell_type": "markdown",
   "metadata": {},
   "source": [
    "## Onboarding\n",
    "Proceso de incorporación de los usuarios cuando comienzan a usar nuestro producto<br>\n",
    "Explicar para que sirve el producto<br>\n",
    "Breve tutorial<br>\n",
    "* Promover la activación del usuario\n",
    "* Retener al usuario en el tiempo\n",
    "* Para dashboard, herramientas de trabajo y apps\n",
    "* Gestionar las espectativas del usuario\n",
    "* Esperar para solicitar pedir notificaciones\n",
    "* Incluirlo en una sección de ayuda\n",
    "* Utilizar ilustraciones\n",
    "* Proporcionar onboarding personalizado\n",
    "* Permitir posponer el registro\n",
    "* Permitir regresar al onboarding si hay dudas"
   ]
  },
  {
   "cell_type": "markdown",
   "metadata": {},
   "source": []
  }
 ],
 "metadata": {
  "kernelspec": {
   "display_name": "Python 3.7.5 64-bit",
   "language": "python",
   "name": "python3"
  },
  "language_info": {
   "name": "python",
   "version": "3.7.5"
  },
  "orig_nbformat": 4,
  "vscode": {
   "interpreter": {
    "hash": "e310ee305116be7a1f6c3fc36efd30b44e9b58a3d111aad7f613c214e7b9dffb"
   }
  }
 },
 "nbformat": 4,
 "nbformat_minor": 2
}
