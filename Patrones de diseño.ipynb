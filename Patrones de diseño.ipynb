{
 "cells": [
  {
   "cell_type": "markdown",
   "metadata": {},
   "source": [
    "# Patrones de diseño"
   ]
  },
  {
   "cell_type": "markdown",
   "metadata": {},
   "source": [
    "## Tarjetas\n",
    "* Consienten mostrar en un espacio reducido muchos elementos\n",
    "* Buena usabilidad\n",
    "* Adaptables a cualquier estilo \n",
    "* Adaptables a desktop y móvil\n",
    "<br>\n",
    "<img style=\"padding-left: 30px; padding-top: 30px\" src=\"https://github.com/GersonVis/NotesUXUI/blob/main/imagenes/tipos%20de%20estado.PNG?raw=true\" width=\"500px\"/>\n"
   ]
  }
 ],
 "metadata": {
  "kernelspec": {
   "display_name": "Python 3.7.5 64-bit",
   "language": "python",
   "name": "python3"
  },
  "language_info": {
   "name": "python",
   "version": "3.7.5"
  },
  "orig_nbformat": 4,
  "vscode": {
   "interpreter": {
    "hash": "e310ee305116be7a1f6c3fc36efd30b44e9b58a3d111aad7f613c214e7b9dffb"
   }
  }
 },
 "nbformat": 4,
 "nbformat_minor": 2
}
