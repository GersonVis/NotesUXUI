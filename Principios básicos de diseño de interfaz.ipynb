{
 "cells": [
  {
   "cell_type": "markdown",
   "metadata": {},
   "source": [
    "## Gestalt\n",
    "### Principios de persepción visual\n",
    "**Un todo organizado se percibe como mayor que la suma de sus partes**\n",
    "> Nuestro cerebro crear formas agrupando elementos, conectando puntos o llenando espacios\n",
    "#### Aparición \n",
    "Vemos objetos simples y bien delineados más rapido que los detallados\n",
    "#### Cocificación\n",
    "Reconocemos objetos completos aún cuando faltán partes de estos\n",
    "#### Estabilidad multiple\n",
    "Interpretamos objetos ambiguos de más de una forma\n",
    "#### Invariancia\n",
    "Reconocemos objetos simples independientemente de su rotación, escala y traslación\n",
    "### 7 principios de persepción visual\n",
    "1.  Proximidad: Los elementos se perciben en conjunto con los elementos más cerca entre ellos.\n",
    "<br>Incluir espacios en blanco para poder crear grupos de elementos<br>\n",
    "por ejemplo: colocar los labels muy cerca de los inputs para que el usuario lo perciba como un grupo\n",
    "\n",
    "<img src=\"https://upload.wikimedia.org/wikipedia/commons/thumb/5/5f/Gestalt_ley_de_proximidad.png/640px-Gestalt_ley_de_proximidad.png\" style=\"padding-left: 40px\" width=\"600\">\n",
    "\n",
    "2. Región común\n",
    "<br>Los elementos ubicados dentro de la misma región se perciben como agrupados<br>\n",
    "<br>Zonas delimitadas por color, lineas, sangria, posición<br><br>\n",
    "<img src=\"https://borealos.com/dynamic/img/rectangulosconpuntos.png\" style=\"padding-left: 10px\" width=\"600\">\n",
    "\n",
    "3. Similitud\n",
    "<br>Los elementos que comparten rasgos visuales similares se perciben como del mismo grupo\n",
    "<br>Rasgos similares:\n",
    "<ul style=\"padding-left: 80px\"><li>Color</li><li>Tamaño</li><li>Forma</li><li>Textura</li><li>Dimensión</li><li>Orientación</li></ul>\n",
    "\n",
    "4. Punto focal\n",
    "<br>Un elemento que diferente al resto capturara más la atención del usuario\n",
    "<br><br>\n",
    "<img src=\"https://encrypted-tbn0.gstatic.com/images?q=tbn:ANd9GcQEaeSth2eqjxbUfOSH7NY1kdZ3g1SOSsdU3_bBs9bAKgZNygevphLJ_tLRm8nKJWwkFyo&usqp=CAU\" style=\"padding-left: 10px\" width=\"400\">\n",
    "\n",
    "5. Cierre<br>\n",
    "Percibimos un grupo de elementos como una única forma, incluso cuando el elemento esta incompleto\n",
    "\n",
    "6. Continuidad<br>\n",
    "Los elementos en linea se perciben más relacionados que los que no están en linea\n",
    "7. Figura fondo\n",
    "<br> Reconocemos en planos las cosas, cuando un elemento esta dentro de otro más grande percibimos el objeto más pequeño como primer plano\n"
   ]
  },
  {
   "cell_type": "markdown",
   "metadata": {},
   "source": [
    "##"
   ]
  }
 ],
 "metadata": {
  "kernelspec": {
   "display_name": "Python 3.7.5 64-bit",
   "language": "python",
   "name": "python3"
  },
  "language_info": {
   "name": "python",
   "version": "3.7.5"
  },
  "orig_nbformat": 4,
  "vscode": {
   "interpreter": {
    "hash": "e310ee305116be7a1f6c3fc36efd30b44e9b58a3d111aad7f613c214e7b9dffb"
   }
  }
 },
 "nbformat": 4,
 "nbformat_minor": 2
}
