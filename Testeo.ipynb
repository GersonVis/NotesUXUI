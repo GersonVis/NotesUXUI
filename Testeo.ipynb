{
 "cells": [
  {
   "cell_type": "markdown",
   "metadata": {},
   "source": [
    "# Testeo\n",
    "## Investigación cuantitativa\n",
    "* Descubrir como los usuarios encuentran nuestra web, visibilidad de esus objetivos\n",
    "* Localización del usuario, poder traducir nuestras monedas a otras tarifas\n",
    "* Dispositivo y navegador con el que accede\n",
    "* Frecuencia de visitas\n",
    "### Métricas\n",
    "* Métricas de usabilidad: El tiempo que se tarda en completar la tarea, ratio de exito, uso del menú\n",
    "* Métricas de compromi\n",
    "* Métricas de conversión: indices de converción, indices de confianza, probabilidad de acción clicks\n",
    "* Métricas de formularios: Número de visitas, de envíos, de abandonos\n",
    "## Herramientas de medición\n",
    "* Google analytics\n",
    "* Encuestas: Seríe de preguntas a los usuarios para saber su satisfacción, deben ser usuarios reales que utilicen nuestro producto, elegir la muestra correcta de lo que estamos investigando\n",
    "## Test A/B\n",
    "Consiste en mostrar versiones distintas a diferentes usuarios, comparar los resultados, para determinar cual funciona mejor\n",
    "<img style=\"margin-top: 30px\" width=\"300px\" src=\"\">\n"
   ]
  }
 ],
 "metadata": {
  "kernelspec": {
   "display_name": "Python 3.7.5 64-bit",
   "language": "python",
   "name": "python3"
  },
  "language_info": {
   "name": "python",
   "version": "3.7.5"
  },
  "orig_nbformat": 4,
  "vscode": {
   "interpreter": {
    "hash": "e310ee305116be7a1f6c3fc36efd30b44e9b58a3d111aad7f613c214e7b9dffb"
   }
  }
 },
 "nbformat": 4,
 "nbformat_minor": 2
}
