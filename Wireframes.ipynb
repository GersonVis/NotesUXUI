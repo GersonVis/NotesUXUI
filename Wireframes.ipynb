{
 "cells": [
  {
   "cell_type": "code",
   "execution_count": null,
   "metadata": {},
   "outputs": [],
   "source": []
  },
  {
   "cell_type": "markdown",
   "metadata": {},
   "source": [
    "# Wireframes"
   ]
  },
  {
   "cell_type": "markdown",
   "metadata": {},
   "source": [
    "> Usar Mobile wireframe UI kit"
   ]
  },
  {
   "cell_type": "markdown",
   "metadata": {},
   "source": [
    "Los wireframes, son partes del desarrollo, con los cuales se va diseñando la interfaz, existen diferentes wireframes dependiendo de cuanto se parezcan al diseño final"
   ]
  },
  {
   "cell_type": "markdown",
   "metadata": {},
   "source": [
    "## Pautas de wireframes\n",
    "* Textos en arial con fondo blanco \n",
    "* Enlaces con subrayado\n",
    "* Botónes con texto blanco sobre un fondo negro\n",
    "* Icónos lo más neutros y simples posibles, en negros y gris\n",
    "* Para las imágenes utilizar un cuadro gris con lineas cruzadas\n",
    "* Para los videos un cuadro gris con el simbolo de play enmedio \n",
    "* Tablas en areá y escala de grises"
   ]
  },
  {
   "cell_type": "markdown",
   "metadata": {},
   "source": [
    "### Formularios\n",
    "* Inputs: \n",
    "* * Label\n",
    "* * Caja de texto con un placeholder\n",
    "* Select: \n",
    "* * Caja con lista de opciones\n",
    "* Checkbox:\n",
    "* * Cuadro para seleccionar opción\n",
    "* Radiobutton:\n",
    "* * Solo permiten marcar una opción\n",
    "* Input archivo:\n",
    "* * Permite seleccionar archivos\n",
    "* Area de texto:\n",
    "* * Area multirenglón para insertar información, ocupar fuentes nultras y araial 12\n",
    "\n",
    "\n",
    " "
   ]
  },
  {
   "cell_type": "markdown",
   "metadata": {},
   "source": [
    "## Hero"
   ]
  },
  {
   "cell_type": "markdown",
   "metadata": {},
   "source": [
    "> Debemos utilizar una imagen de fondo gris para poder señalar una Hero image\n",
    "\n",
    "<img src=\"https://i.pinimg.com/originals/46/b6/fb/46b6fb2d8ba7c62d01fa01b1356bebbf.png\" width=\"600px\">"
   ]
  },
  {
   "cell_type": "markdown",
   "metadata": {},
   "source": [
    "## Pop-ups\n",
    "* No utilizar a mitad de una tarea crítica\n",
    "* No interrumpir al usuario de manera invasiva\n",
    "* Recomendable no utilizar nunca\n",
    "* Utilizar para entregar información de manera revelante"
   ]
  },
  {
   "cell_type": "markdown",
   "metadata": {},
   "source": [
    "## Feedbacks\n",
    "* El primer pantallazo debe tener más información\n",
    "* Ahora cambio el 50% de las personas llegán al final de la página, si hay interés real\n",
    "* Poner el contenido con más gancho enmedio de la pagina al hacer scroll"
   ]
  },
  {
   "cell_type": "markdown",
   "metadata": {},
   "source": [
    "## Onboarding\n",
    "* Pantallas antes de pasar al login"
   ]
  },
  {
   "cell_type": "markdown",
   "metadata": {},
   "source": [
    "## Logín\n",
    "* Pantalla para iniciar sesión"
   ]
  },
  {
   "cell_type": "markdown",
   "metadata": {},
   "source": [
    "## Portada\n",
    "* Inicio con opciones principales"
   ]
  },
  {
   "cell_type": "markdown",
   "metadata": {},
   "source": []
  }
 ],
 "metadata": {
  "kernelspec": {
   "display_name": "Python 3.7.5 64-bit",
   "language": "python",
   "name": "python3"
  },
  "language_info": {
   "name": "python",
   "version": "3.7.5"
  },
  "orig_nbformat": 4,
  "vscode": {
   "interpreter": {
    "hash": "e310ee305116be7a1f6c3fc36efd30b44e9b58a3d111aad7f613c214e7b9dffb"
   }
  }
 },
 "nbformat": 4,
 "nbformat_minor": 2
}
